{
  "cells": [
    {
      "cell_type": "markdown",
      "metadata": {
        "id": "9Mmlo3aCzGU4"
      },
      "source": [
        "# VARIABLES  \n",
        "<p align=\"justify\">\n",
        "Las <b>variables</b> son espacios de memoria donde se almacena información asociada a un elemento.  \n",
        "Se definen con la sintaxis:\n",
        "</p>  \n",
        "\n",
        "`Nombre_variable = valor`\n",
        "\n"
      ]
    },
    {
      "cell_type": "markdown",
      "metadata": {
        "id": "vTGVp0k0lNL1"
      },
      "source": [
        "## Restricciones  \n",
        "<p align=\"justify\">\n",
        "Al definir variables, se deben tener en cuenta ciertas restricciones para evitar errores de sintaxis o malas prácticas en la programación:\n",
        "</p>  \n",
        "\n",
        "- No iniciar con números.  \n",
        "- No contener palabras reservadas.  \n",
        "- No contener espacios en blanco.  \n"
      ]
    },
    {
      "cell_type": "code",
      "execution_count": null,
      "metadata": {
        "collapsed": true,
        "id": "lXxXbD7cjRr1"
      },
      "outputs": [
        {
          "ename": "SyntaxError",
          "evalue": "invalid decimal literal (1085507776.py, line 2)",
          "output_type": "error",
          "traceback": [
            "  \u001b[36mCell\u001b[39m\u001b[36m \u001b[39m\u001b[32mIn[1]\u001b[39m\u001b[32m, line 2\u001b[39m\n\u001b[31m    \u001b[39m\u001b[31m4variable = 10\u001b[39m\n    ^\n\u001b[31mSyntaxError\u001b[39m\u001b[31m:\u001b[39m invalid decimal literal\n"
          ]
        }
      ],
      "source": [
        "# - No iniciar con números.  \n",
        "4variable = 10"
      ]
    },
    {
      "cell_type": "code",
      "execution_count": null,
      "metadata": {
        "id": "cnZvKi_yjgME"
      },
      "outputs": [
        {
          "ename": "SyntaxError",
          "evalue": "invalid syntax (2283321859.py, line 2)",
          "output_type": "error",
          "traceback": [
            "  \u001b[36mCell\u001b[39m\u001b[36m \u001b[39m\u001b[32mIn[1]\u001b[39m\u001b[32m, line 2\u001b[39m\n\u001b[31m    \u001b[39m\u001b[31mimport=1\u001b[39m\n          ^\n\u001b[31mSyntaxError\u001b[39m\u001b[31m:\u001b[39m invalid syntax\n"
          ]
        }
      ],
      "source": [
        "# 2.No contener palabras reservadas.  \n",
        "import=1"
      ]
    },
    {
      "cell_type": "code",
      "execution_count": null,
      "metadata": {
        "id": "SXPGW3LMmROt"
      },
      "outputs": [
        {
          "ename": "SyntaxError",
          "evalue": "invalid syntax (3971629808.py, line 2)",
          "output_type": "error",
          "traceback": [
            "  \u001b[36mCell\u001b[39m\u001b[36m \u001b[39m\u001b[32mIn[2]\u001b[39m\u001b[32m, line 2\u001b[39m\n\u001b[31m    \u001b[39m\u001b[31mmi variable = 10\u001b[39m\n       ^\n\u001b[31mSyntaxError\u001b[39m\u001b[31m:\u001b[39m invalid syntax\n"
          ]
        }
      ],
      "source": [
        "# 3.No contener espacios en blanco.\n",
        "mi variable = 10"
      ]
    },
    {
      "cell_type": "markdown",
      "metadata": {
        "id": "hbbO2Fshm0Yq"
      },
      "source": [
        "## Palabras reservadas  \n",
        "\n",
        "<p align=\"justify\">\n",
        "Las <b>palabras reservadas</b> son identificadores que el lenguaje de programación utiliza para su propia sintaxis.  \n",
        "Por esta razón, no pueden usarse como nombres de variables, funciones o clases.  \n",
        "A continuación, se muestran algunos ejemplos de palabras reservadas en Python:\n",
        "</p>"
      ]
    },
    {
      "cell_type": "code",
      "execution_count": 2,
      "metadata": {
        "colab": {
          "base_uri": "https://localhost:8080/"
        },
        "id": "BNmY90fomz7D",
        "outputId": "58ac38a7-4f7c-4be7-9cea-82e1c6aa8fb0"
      },
      "outputs": [
        {
          "data": {
            "text/plain": [
              "['False',\n",
              " 'None',\n",
              " 'True',\n",
              " 'and',\n",
              " 'as',\n",
              " 'assert',\n",
              " 'async',\n",
              " 'await',\n",
              " 'break',\n",
              " 'class',\n",
              " 'continue',\n",
              " 'def',\n",
              " 'del',\n",
              " 'elif',\n",
              " 'else',\n",
              " 'except',\n",
              " 'finally',\n",
              " 'for',\n",
              " 'from',\n",
              " 'global',\n",
              " 'if',\n",
              " 'import',\n",
              " 'in',\n",
              " 'is',\n",
              " 'lambda',\n",
              " 'nonlocal',\n",
              " 'not',\n",
              " 'or',\n",
              " 'pass',\n",
              " 'raise',\n",
              " 'return',\n",
              " 'try',\n",
              " 'while',\n",
              " 'with',\n",
              " 'yield']"
            ]
          },
          "execution_count": 2,
          "metadata": {},
          "output_type": "execute_result"
        }
      ],
      "source": [
        "import keyword\n",
        "keyword.kwlist"
      ]
    },
    {
      "cell_type": "markdown",
      "metadata": {
        "id": "81eSNdWfnhgA"
      },
      "source": [
        "## Declaración de variables  \n",
        "\n",
        "<p align=\"justify\">\n",
        "La declaración de variables consiste en asignar un nombre y un valor a un espacio de memoria.  \n",
        "En Python, se utiliza el operador <code>=</code> para realizar la asignación.\n",
        "**Observación:** Usaremos siempre el estilo snake_case para nombrar variables.\n",
        "</p>  \n",
        "\n",
        "`nombre_variable = valor`  \n"
      ]
    },
    {
      "cell_type": "markdown",
      "metadata": {
        "id": "YdNMvRx7nTkp"
      },
      "source": [
        "| **Estilo**      | **Descripción**                                                                                                                          | **Ejemplo**           |\n",
        "| --------------- | ---------------------------------------------------------------------------------------------------------------------------------------- | --------------------- |\n",
        "| **camelCase**   | Primera palabra en minúscula y cada palabra siguiente empieza en mayúscula. Usado mucho en JavaScript y Java para variables y funciones. | `miVariableEjemplo`   |\n",
        "| **snake\\_case** | Todas las letras en minúscula y las palabras separadas por guion bajo. Común en Python.                                                  | `mi_variable_ejemplo` |\n",
        "| **PascalCase**  | Igual que camelCase pero la primera palabra también empieza en mayúscula. Usado en C#, Java y para nombres de clases.                    | `MiVariableEjemplo`   |\n",
        "| **kebab-case**  | Todas las letras en minúscula y las palabras separadas por guiones medios. Usado en nombres de archivos o rutas URL.                     | `mi-variable-ejemplo` |\n",
        "\n",
        "\n"
      ]
    },
    {
      "cell_type": "markdown",
      "metadata": {
        "id": "0HM9sd82n3QP"
      },
      "source": [
        "## Declaración de variables  \n",
        "\n",
        "- Una sola variable  \n",
        "- Múltiples variables  \n"
      ]
    },
    {
      "cell_type": "code",
      "execution_count": 6,
      "metadata": {
        "colab": {
          "base_uri": "https://localhost:8080/"
        },
        "id": "_EYso7NLn3Do",
        "outputId": "2b4b0eb2-aaae-4510-9537-23e442264083"
      },
      "outputs": [
        {
          "data": {
            "text/plain": [
              "1"
            ]
          },
          "execution_count": 6,
          "metadata": {},
          "output_type": "execute_result"
        }
      ],
      "source": [
        "# Unas sola variable\n",
        "x=1\n",
        "x"
      ]
    },
    {
      "cell_type": "code",
      "execution_count": 7,
      "metadata": {
        "colab": {
          "base_uri": "https://localhost:8080/"
        },
        "id": "I24CfDHfoRaG",
        "outputId": "e90f4a97-b80a-4014-b4ee-56e31cdbbbe6"
      },
      "outputs": [
        {
          "data": {
            "text/plain": [
              "(1, 2, 3)"
            ]
          },
          "execution_count": 7,
          "metadata": {},
          "output_type": "execute_result"
        }
      ],
      "source": [
        "# Multiples varaibles\n",
        "\n",
        "x,y,z=1,2,3\n",
        "x,y,z"
      ]
    },
    {
      "cell_type": "markdown",
      "metadata": {
        "id": "7qVE1Udyol2V"
      },
      "source": [
        "**Observación.** Al igual que existe `+=`, también tenemos `-=`, `*=`, `/=`, `//=`, `%=` y `**=`, que son el equivalente a `+=` con el resto de operaciones aritméticas existentes en `Python` y que trataremos en el siguiente tema.\n",
        "\n",
        "**Observación.** Todos los tipos de variable en `Python` los iremos viendo en profundidad"
      ]
    },
    {
      "cell_type": "markdown",
      "metadata": {
        "id": "17XfMmqjo0hs"
      },
      "source": [
        "## Función import \n",
        "Las funciones de un módulo pueden ser importadas. Es aquí donde entra en juego la función `import`.\n",
        "\n",
        "Por ejemplo, vamos a importar el módulo `math`, del cual hablaremos en futuras secciones de este curso.\n",
        "\n",
        "De momento, lo que nos interesa saber acerca de este módulo es que es de utilidad a la hora de usar funciones matemáticas (definidas según los estándares de C)."
      ]
    },
    {
      "cell_type": "code",
      "execution_count": 8,
      "metadata": {
        "id": "2R6Kpm6uoyqM"
      },
      "outputs": [],
      "source": [
        "import math"
      ]
    },
    {
      "cell_type": "markdown",
      "metadata": {
        "id": "mgZSd5OKpVep"
      },
      "source": [
        "Con la línea de código anterior, no solo hemos cargado el módulo de `math`, sino que a la hora de usar alguna de sus funiones, ahora podremos usar la sintaxis `mt.funcion()` o `mt.variable`. Es decir, en vez de tener que poner el nombre del módulo, podemos cambiarle el nombre o, como en este caso, usar la abreviatura `mt` (o la que quereamos utilizar), cosa que resulta de mucha utilidad para módulos con nombres muy largos.\n",
        "\n",
        "Si por el contrario no queremos cargar todo el módulo, sino que simplemente queremos cargar una función o una variable, lo podemos hacer de la siguiente forma:"
      ]
    },
    {
      "cell_type": "markdown",
      "metadata": {
        "id": "7FgevQmZpe1i"
      },
      "source": [
        "- import math as ma (se le asigna un nombre)\n",
        "- from math import  sin,cos (solo para cargar un elemento de la libreria)\n",
        "- from math import * (para cargar todos los elementos disponbles)"
      ]
    },
    {
      "cell_type": "markdown",
      "metadata": {
        "id": "Fq3ookPSzllj"
      },
      "source": [
        "# ENTRADA Y SALIDA ESTÁNDAR  \n",
        "\n",
        "<p align=\"justify\">\n",
        "En esta sección veremos cómo utilizar la función <code>print()</code> para mostrar en la consola los resultados de nuestras instrucciones y así verificar la ejecución del programa.\n",
        "</p> \n"
      ]
    },
    {
      "cell_type": "markdown",
      "metadata": {
        "id": "7Mz4grohKT1k"
      },
      "source": [
        "## Función print  \n",
        "\n",
        "<p align=\"justify\">\n",
        "La función <code>print()</code> se utiliza para visualizar información en la consola.  \n",
        "Cuenta con diferentes formas de uso, entre las cuales destacan:\n",
        "</p>  \n",
        "\n",
        "- **print** → permite mostrar directamente texto, números o variables.  \n",
        "- **format** → permite dar formato a la salida, integrando valores dentro de un texto."
      ]
    },
    {
      "cell_type": "code",
      "execution_count": 1,
      "metadata": {
        "colab": {
          "base_uri": "https://localhost:8080/"
        },
        "id": "2h9r0lw8KlKL",
        "outputId": "8e29fac7-c4e7-48e5-f8ab-8382e5a6d1fb"
      },
      "outputs": [
        {
          "name": "stdout",
          "output_type": "stream",
          "text": [
            "Hola Mundo\n"
          ]
        }
      ],
      "source": [
        "#Print (Normal)\n",
        "print(\"Hola Mundo\")"
      ]
    },
    {
      "cell_type": "code",
      "execution_count": 3,
      "metadata": {
        "colab": {
          "base_uri": "https://localhost:8080/"
        },
        "id": "x5tn5s9MKs16",
        "outputId": "845ef851-7fab-4299-e99c-ebd094d4da01"
      },
      "outputs": [
        {
          "name": "stdout",
          "output_type": "stream",
          "text": [
            "hola mundo\n"
          ]
        }
      ],
      "source": [
        "#Print (format)\n",
        "x=\"hola\"\n",
        "y=\"mundo\"\n",
        "print(f\"{x} {y}\")"
      ]
    },
    {
      "cell_type": "code",
      "execution_count": 4,
      "metadata": {
        "colab": {
          "base_uri": "https://localhost:8080/"
        },
        "id": "SN6YM4W5K-FC",
        "outputId": "77333ec8-3168-480b-feb2-94e47f987b6c"
      },
      "outputs": [
        {
          "name": "stdout",
          "output_type": "stream",
          "text": [
            "hola,mundo\n"
          ]
        }
      ],
      "source": [
        "print(\"{x},{y}\".format(x=x,y=y))"
      ]
    },
    {
      "cell_type": "markdown",
      "metadata": {
        "id": "jtRkFtXULKD_"
      },
      "source": [
        "**Observasion**.∇\n",
        "hay dos formas de conseguir el metodo format,es la contraccion (f) y la otra es metodo mas largo (.format) pero las dos tiene el mismo resultado"
      ]
    },
    {
      "cell_type": "markdown",
      "metadata": {
        "id": "S_CUtwArzlid"
      },
      "source": [
        "## Salida por pantalla  \n",
        "\n",
        "<p align=\"justify\">\n",
        "En Python, la función <code>input()</code> se utiliza para recoger datos ingresados por el usuario a través de la consola.  \n",
        "Su sintaxis básica es:\n",
        "</p>  \n",
        "\n",
        "```python\n",
        "variable = input(\"Texto representativo (opcional)\")\n"
      ]
    },
    {
      "cell_type": "code",
      "execution_count": 6,
      "metadata": {
        "colab": {
          "base_uri": "https://localhost:8080/"
        },
        "id": "XX_MLpSJMxo2",
        "outputId": "409a1943-857e-43b7-e14c-65974c20d384"
      },
      "outputs": [
        {
          "name": "stdout",
          "output_type": "stream",
          "text": [
            "ingrese un numero5\n"
          ]
        }
      ],
      "source": [
        "#Ejemplo\n",
        "var=input(\"ingrese un numero\")"
      ]
    },
    {
      "cell_type": "markdown",
      "metadata": {
        "id": "E_QhVJvCNNgJ"
      },
      "source": [
        "**Observación:**  \n",
        "<p align=\"justify\">\n",
        "Para convertir el dato ingresado mediante <code>input()</code> a un tipo específico de variable, se coloca el tipo de dato antes de la función <code>input()</code>.\n",
        "</p> \n"
      ]
    },
    {
      "cell_type": "code",
      "execution_count": null,
      "metadata": {
        "id": "HCEkLXQrNmzW"
      },
      "outputs": [],
      "source": [
        "var2=int(input(\"ingrese un numero\"))"
      ]
    },
    {
      "cell_type": "markdown",
      "metadata": {
        "id": "u_V0-xrFzlgU"
      },
      "source": [
        "## Formateo de salida  \n",
        "\n",
        "<p align=\"justify\">\n",
        "La función <code>print()</code> permite personalizar la forma en que se muestran los datos en consola mediante los parámetros <code>sep</code> y <code>end</code>.\n",
        "</p>  \n",
        "\n",
        "- **sep** → define el separador entre los elementos impresos (por defecto es un espacio en blanco).  \n",
        "- **end** → especifica cómo termina la línea de salida (por defecto es un salto de línea <code>\\n</code>).  \n"
      ]
    },
    {
      "cell_type": "code",
      "execution_count": 7,
      "metadata": {
        "colab": {
          "base_uri": "https://localhost:8080/"
        },
        "id": "E3vaSGiDN3KH",
        "outputId": "eddb8439-e6f3-4ba4-816d-2204534ac8b5"
      },
      "outputs": [
        {
          "name": "stdout",
          "output_type": "stream",
          "text": [
            "hola---mundo\n"
          ]
        }
      ],
      "source": [
        "# Para step\n",
        "print(\"hola\",\"mundo\",sep=\"---\")"
      ]
    },
    {
      "cell_type": "code",
      "execution_count": 9,
      "metadata": {
        "colab": {
          "base_uri": "https://localhost:8080/"
        },
        "id": "GfHXePceN7o9",
        "outputId": "1e0a13b4-7386-4573-e41a-e6ab8a730f04"
      },
      "outputs": [
        {
          "name": "stdout",
          "output_type": "stream",
          "text": [
            "hola---"
          ]
        }
      ],
      "source": [
        "#Para end\n",
        "print(\"hola\",end=\"---\")\n",
        "\n"
      ]
    },
    {
      "cell_type": "code",
      "execution_count": 10,
      "metadata": {
        "colab": {
          "base_uri": "https://localhost:8080/"
        },
        "id": "YElPG0IPODYc",
        "outputId": "d50cd99a-72b8-4440-a4c5-03aef585c9d5"
      },
      "outputs": [
        {
          "name": "stdout",
          "output_type": "stream",
          "text": [
            "hola:mundo---"
          ]
        }
      ],
      "source": [
        "#Ahora con step and end\n",
        "print(\"hola\",\"mundo\",sep=\":\",end=\"---\")"
      ]
    }
  ],
  "metadata": {
    "colab": {
      "provenance": [],
      "toc_visible": true
    },
    "kernelspec": {
      "display_name": "venv",
      "language": "python",
      "name": "python3"
    },
    "language_info": {
      "codemirror_mode": {
        "name": "ipython",
        "version": 3
      },
      "file_extension": ".py",
      "mimetype": "text/x-python",
      "name": "python",
      "nbconvert_exporter": "python",
      "pygments_lexer": "ipython3",
      "version": "3.11.8"
    }
  },
  "nbformat": 4,
  "nbformat_minor": 0
}
