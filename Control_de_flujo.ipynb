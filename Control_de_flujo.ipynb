{
 "cells": [
  {
   "cell_type": "markdown",
   "id": "b1a67390",
   "metadata": {},
   "source": [
    "# Operadores de desicion\n",
    "para iniciar con la  senecias if / else / operador ternario es necesario saber loc operadore de comparacion\n",
    "| Operador | Significado |\n",
    "| :---: | :--- |\n",
    "| $>$ | Estrictamente mayor |\n",
    "| $\\ge$ | Mayor o igual |\n",
    "| $<$ | Estrictamente menor |\n",
    "| $\\le$ | Menor o igual |\n",
    "| $==$ | Igual |\n",
    "| $!=$ | Diferente |"
   ]
  },
  {
   "cell_type": "code",
   "execution_count": null,
   "id": "a4301577",
   "metadata": {},
   "outputs": [
    {
     "data": {
      "text/plain": [
       "False"
      ]
     },
     "execution_count": 1,
     "metadata": {},
     "output_type": "execute_result"
    }
   ],
   "source": [
    "# Ej\n",
    "x=1\n",
    "y=2\n",
    "\n",
    "x>y\n",
    "\n",
    "\"\"\"\n",
    "De esta manera se hacen las comparaciones las cuales se puden realizar con todos lo operadores\n",
    " \"\"\""
   ]
  },
  {
   "cell_type": "markdown",
   "id": "7c3a949e",
   "metadata": {},
   "source": [
    "**observacion** hay mentodos que se suman al mometo de compara como isdgit o isupper las cuales comiezan con is o otros \n",
    "pueden comezar con star o end  "
   ]
  },
  {
   "cell_type": "markdown",
   "id": "5fce565d",
   "metadata": {},
   "source": [
    "## Sentencia if\n",
    "\n",
    "La sentencia `if` se utiliza para **evaluar condiciones específicas** en un programa.  \n",
    "Si la condición se cumple (es verdadera), se ejecuta el bloque de código asociado.  \n",
    "\n",
    "### Sintaxis básica:\n",
    "\n",
    "```python\n",
    "if condición:\n",
    "    # Bloque de código que se ejecuta si la condición es verdadera\n"
   ]
  },
  {
   "cell_type": "code",
   "execution_count": null,
   "id": "fe9a56c4",
   "metadata": {},
   "outputs": [
    {
     "name": "stdout",
     "output_type": "stream",
     "text": [
      "ingreso al condicional\n"
     ]
    }
   ],
   "source": [
    "if x==1 : # if condicion\n",
    "    print(\"ingreso al condicional\") # consecuencia 1 hasta n"
   ]
  },
  {
   "cell_type": "markdown",
   "id": "fc5bc448",
   "metadata": {},
   "source": [
    "## Sentencia else\n",
    "\n",
    "La sentencia `else` se utiliza para **indicar qué debe hacer el programa cuando la condición del `if` no se cumple**.  \n",
    "De esta forma, siempre habrá un bloque de código que se ejecute, sin importar el resultado de la condición.  \n",
    "\n",
    "### Sintaxis:\n",
    "\n",
    "```python\n",
    "if condición:\n",
    "    # Bloque de código si la condición es verdadera\n",
    "else:\n",
    "    # Bloque de código si la condición es falsa\n"
   ]
  },
  {
   "cell_type": "code",
   "execution_count": null,
   "id": "106eca5f",
   "metadata": {},
   "outputs": [],
   "source": [
    "age = 13\n",
    "if (age >= 16 and age <= 40):\n",
    "    print(\"condicion valida\")\n",
    "else: # es aqui dodne se coloca la condicon else \n",
    "    print(\"condicion valida\")"
   ]
  },
  {
   "cell_type": "markdown",
   "id": "d546f773",
   "metadata": {},
   "source": [
    "### `elif`\n",
    "\n",
    "Ahora, en vez de comprobar si se cumple o no una condición, nos podríamos preguntar cómo haríamos para comprobar más de una condición. Podríamos hacerlo a lo bruto anidando operadores `if`, esto es, metiendo un `if` dentro de otro; o bien, podríamos hacerlo utilizando el operador de decisión `elif`.\n",
    "\n",
    "El operador `elif` funciona del siguiente modo: se empieza con un operador `if`; si la condición de este no se cumple, pasamos a la siguiente condición posible precedida de un `elif`; si esta tampoco se cumple, pasamos al siguiente `elif`; seguimos así hasta que o bien se satisface alguna condición y realizamos su consecuencia, o hasta llegar al `else`, que implica que no se ha satisfecho ninguna de las condiciones anteriores.\n",
    "\n",
    "La sintaxis del operador de decisión `elif` es la siguiente:\n",
    "\n"
   ]
  },
  {
   "cell_type": "code",
   "execution_count": null,
   "id": "bcbdf37d",
   "metadata": {},
   "outputs": [],
   "source": [
    "if condición_1:\n",
    "  consecuencia\n",
    "elif condición_2:\n",
    "  consecuencia\n",
    "elif condición_3:\n",
    "  consecuencia\n",
    ". \n",
    ". \n",
    ". \n",
    "else:\n",
    "  consecuencia"
   ]
  },
  {
   "cell_type": "code",
   "execution_count": 5,
   "id": "9b335ef9",
   "metadata": {},
   "outputs": [
    {
     "name": "stdout",
     "output_type": "stream",
     "text": [
      "Podrás optar a pertenecer la tripulación\n"
     ]
    }
   ],
   "source": [
    "age = 20\n",
    "\n",
    "if age > 40:\n",
    "  print(\"No puedes pertenecer .\")\n",
    "elif age >= 16:\n",
    "  print(\"Podrás optar a pertenecer la tripulación\")\n",
    "else:\n",
    "  print(\"Eres muy pequeño \")"
   ]
  },
  {
   "cell_type": "markdown",
   "id": "dd1fc853",
   "metadata": {},
   "source": [
    "El funcionamiento del código anterior es el siguiente:\n",
    "\n",
    "- El `if` comprueba si la edad introducida es mayor a 40.\n",
    "- El `elif` comprueba si la edad se encuentra en el intervalo [16, 40]\n",
    "- El `else` implica que la edad introducida es menor a 16"
   ]
  },
  {
   "cell_type": "markdown",
   "id": "f4978f8f",
   "metadata": {},
   "source": [
    "## Operador ternario\n",
    "\n",
    "El **operador ternario** en Python permite escribir una condición `if / else` en una sola línea de código.  \n",
    "Es útil cuando queremos asignar un valor o ejecutar una expresión corta según una condición.\n",
    "\n",
    "### Sintaxis:\n",
    "\n",
    "```python\n",
    "valor_si_verdadero if condición else valor_si_falso\n"
   ]
  },
  {
   "cell_type": "code",
   "execution_count": 1,
   "id": "a99638a2",
   "metadata": {},
   "outputs": [
    {
     "name": "stdout",
     "output_type": "stream",
     "text": [
      "Eres mayor de edad en España\n"
     ]
    }
   ],
   "source": [
    "age = 20\n",
    "texto_mayor = \"Eres mayor de edad en España\"\n",
    "texto_menor = \"Eres menor de edad en España\"\n",
    "\n",
    "print(texto_mayor) if age >= 18 else print(texto_menor)"
   ]
  },
  {
   "cell_type": "markdown",
   "id": "472baa8f",
   "metadata": {},
   "source": [
    "## Operadores anidados\n",
    "\n",
    "Los **operadores anidados** permiten utilizar varias estructuras condicionales dentro de un mismo bloque de código.  \n",
    "Se emplean cuando una condición depende del resultado de otra, es decir, cuando se necesita evaluar múltiples escenarios de forma jerárquica.\n",
    "\n",
    "### Sintaxis:\n",
    "\n",
    "```python\n",
    "if condición1:\n",
    "    if condición2:\n",
    "        # Bloque de código si ambas condiciones son verdaderas\n",
    "    else:\n",
    "        # Bloque de código si condición1 es verdadera pero condición2 es falsa\n",
    "else:\n",
    "    # Bloque de código si condición1 es falsa\n"
   ]
  },
  {
   "cell_type": "code",
   "execution_count": 2,
   "id": "19061ed4",
   "metadata": {},
   "outputs": [
    {
     "name": "stdout",
     "output_type": "stream",
     "text": [
      "Eres mayor de edad pues tienes 20 años y tu nombre, que es Martin, empieza por M\n"
     ]
    }
   ],
   "source": [
    "age = 20\n",
    "name = \"Martin\"\n",
    "\n",
    "if age >= 18:\n",
    "  if name.startswith(\"M\") or name.startswith(\"m\"):\n",
    "    print(\"Eres mayor de edad pues tienes {} años y tu nombre, que es {}, empieza por M\".format(age, name))\n",
    "  else:\n",
    "    print(\"Eres mayor de edad pues tienes {} años\".format(age))\n",
    "else:\n",
    "  print(\"Eres muy joven\")"
   ]
  }
 ],
 "metadata": {
  "kernelspec": {
   "display_name": "Python 3",
   "language": "python",
   "name": "python3"
  },
  "language_info": {
   "codemirror_mode": {
    "name": "ipython",
    "version": 3
   },
   "file_extension": ".py",
   "mimetype": "text/x-python",
   "name": "python",
   "nbconvert_exporter": "python",
   "pygments_lexer": "ipython3",
   "version": "3.11.8"
  }
 },
 "nbformat": 4,
 "nbformat_minor": 5
}
