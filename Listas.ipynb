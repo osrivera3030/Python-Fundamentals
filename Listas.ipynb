{
 "cells": [
  {
   "cell_type": "markdown",
   "id": "78fe9a39",
   "metadata": {},
   "source": [
    "# Listas en Python\n",
    "\n",
    "La primera estructura de datos que veremos son las **listas**.  \n",
    "Éstas son un conjunto de elementos **ordenados**, separados por comas y escritos entre **corchetes `[]`**.  \n",
    "\n",
    "---\n",
    "\n",
    "## Características principales\n",
    "- **Heterogéneas**: los elementos pueden ser de distinto tipo en una misma lista.  \n",
    "- **Mutables**: los elementos pueden ser modificados.  \n",
    "\n",
    "---\n",
    "\n",
    "\n",
    "\n"
   ]
  },
  {
   "cell_type": "code",
   "execution_count": null,
   "id": "7667e37f",
   "metadata": {},
   "outputs": [
    {
     "data": {
      "text/plain": [
       "[1, 'oscar', True, 1.25]"
      ]
     },
     "execution_count": 4,
     "metadata": {},
     "output_type": "execute_result"
    }
   ],
   "source": [
    "#Ej\n",
    "L=[1,\"oscar\",True,1.25]\n",
    "L"
   ]
  },
  {
   "cell_type": "markdown",
   "id": "55a78ba3",
   "metadata": {},
   "source": [
    "# Listas en Python: Indexing y Slicing\n",
    "\n",
    "En Python, las listas son **estructuras ordenadas** y cada elemento tiene un **índice** que indica su posición.\n",
    "\n",
    "---\n",
    "\n",
    "## Indexing (acceder a un solo elemento)\n",
    "\n",
    "- El índice **empieza en 0** (no en 1).  \n",
    "- El último elemento se puede acceder con índices negativos.  \n",
    "- Si se pide un índice que no existe → **Error** (`IndexError`).  \n",
    "\n",
    "\n",
    "\n",
    "\n"
   ]
  },
  {
   "cell_type": "code",
   "execution_count": 5,
   "id": "0bb87dcd",
   "metadata": {},
   "outputs": [
    {
     "name": "stdout",
     "output_type": "stream",
     "text": [
      "María\n",
      "Jorge\n",
      "Avelina\n",
      "Claudia\n"
     ]
    }
   ],
   "source": [
    "names = [\"María\", \"Juan\", \"Claudia\", \"Jorge\", \"Avelina\"]\n",
    "\n",
    "print(names[0])   # Primer elemento → María\n",
    "print(names[3])   # Cuarto elemento → Jorge\n",
    "print(names[-1])  # Último elemento → Avelina\n",
    "print(names[-3])  # Tercer elemento desde el final → Claudia"
   ]
  },
  {
   "cell_type": "markdown",
   "id": "732ba52d",
   "metadata": {},
   "source": [
    "# Bucles en una lista\n",
    "\n",
    "Un **bucle en una lista** se usa cuando queremos **recorrer todos sus elementos**  \n",
    "o procesarlos de manera individual."
   ]
  },
  {
   "cell_type": "code",
   "execution_count": 6,
   "id": "cd0ede33",
   "metadata": {},
   "outputs": [
    {
     "name": "stdout",
     "output_type": "stream",
     "text": [
      "Mario\n",
      "Cristian\n",
      "Juan\n"
     ]
    }
   ],
   "source": [
    "names = [\"Mario\", \"Cristian\", \"Juan\"]\n",
    "for name in names:\n",
    "  print(name)"
   ]
  },
  {
   "cell_type": "markdown",
   "id": "fa158192",
   "metadata": {},
   "source": [
    "# Concatenación y multiplicación de listas\n",
    "\n",
    "En Python podemos **unir** o **repetir** listas usando los operadores `+` y `*`.\n",
    "\n",
    "---\n",
    "\n",
    "## Concatenación (`+`)\n",
    "\n",
    "Cuando una lista `l1` y otra lista `l2` se juntan con el operador `+`,  \n",
    "se crea una nueva lista con todos los elementos de ambas\n",
    "\n",
    "\n",
    "## Multiplicación (*)\n",
    "\n",
    "Cuando una lista l1 se multiplica con el operador *,\n",
    "se repite su contenido tantas veces como se indique.\n",
    "         \n"
   ]
  },
  {
   "cell_type": "code",
   "execution_count": 7,
   "id": "18db222d",
   "metadata": {},
   "outputs": [
    {
     "name": "stdout",
     "output_type": "stream",
     "text": [
      "[True, 21, 'Marta', 22.5, False, 22, 'Rafa']\n"
     ]
    }
   ],
   "source": [
    "#condenar\n",
    "l1 = [True, 21, \"Marta\"]\n",
    "l2 = [22.5, False, 22, \"Rafa\"]\n",
    "print(l1 + l2)"
   ]
  },
  {
   "cell_type": "code",
   "execution_count": null,
   "id": "eab8514b",
   "metadata": {},
   "outputs": [],
   "source": [
    "#multplicasion \n",
    "abc = [\"A\", \"B\", \"C\"]\n",
    "print(abc * 5)"
   ]
  },
  {
   "cell_type": "markdown",
   "id": "a41584b3",
   "metadata": {},
   "source": [
    "## Lista vacía\n",
    "\n",
    "En Python, una lista vacía es una lista **sin elementos**.  \n",
    "Se crea usando corchetes `[]` o con el constructor `list()`.\n",
    "\n"
   ]
  },
  {
   "cell_type": "code",
   "execution_count": 8,
   "id": "bac94f42",
   "metadata": {},
   "outputs": [
    {
     "name": "stdout",
     "output_type": "stream",
     "text": [
      "0\n"
     ]
    }
   ],
   "source": [
    "empty_list = []\n",
    "print(len(empty_list))"
   ]
  },
  {
   "cell_type": "markdown",
   "id": "fbb4557b",
   "metadata": {},
   "source": [
    "# Conversión a listas\n",
    "\n",
    "Para convertir un objeto iterable de `Python` a lista, hay que usar la función `list()`"
   ]
  },
  {
   "cell_type": "code",
   "execution_count": 9,
   "id": "4b9b70eb",
   "metadata": {},
   "outputs": [
    {
     "name": "stdout",
     "output_type": "stream",
     "text": [
      "[0, 10, 20, 30, 40, 50, 60, 70, 80, 90]\n"
     ]
    }
   ],
   "source": [
    "print(list(range(0, 100, 10)))"
   ]
  },
  {
   "cell_type": "markdown",
   "id": "ebdcc6b1",
   "metadata": {},
   "source": [
    "# Listas anidadas en Python\n",
    "\n",
    "Una **lista anidada** es una lista que contiene **otras listas como elementos**.  \n",
    "Esto permite representar estructuras más complejas (tablas, matrices, etc.).\n",
    "\n",
    "---\n",
    "\n"
   ]
  },
  {
   "cell_type": "code",
   "execution_count": 10,
   "id": "b79d5886",
   "metadata": {},
   "outputs": [
    {
     "name": "stdout",
     "output_type": "stream",
     "text": [
      "[['María', 'Santos', 'Fernández'], ['Juan', [1, 2, 3, 4, 5], 32], 2]\n"
     ]
    }
   ],
   "source": [
    "## Ejemplo básico\n",
    "\n",
    "\n",
    "l = [\n",
    "    [\"María\", \"Santos\", \"Fernández\"],   # lista de 3 strings\n",
    "    [\"Juan\", [1, 2, 3, 4, 5], 32],     # lista heterogénea con otra lista dentro\n",
    "    2                                   # número\n",
    "]\n",
    "\n",
    "print(l)\n"
   ]
  },
  {
   "cell_type": "markdown",
   "id": "64d10521",
   "metadata": {},
   "source": [
    "## Accediendo a elementos en listas anidadas\n",
    "\n",
    "Para acceder a un elemento en una lista **anidada** se usan varios **índices consecutivos**,  \n",
    "uno por cada nivel de anidación.\n",
    "\n",
    "- `l[0][2]` → accede al índice `2` dentro de la lista que está en `l[0]`.  \n",
    "- `l[1][1][4]` → primero entra a `l[1]`, luego al subíndice `1` de esa lista, y dentro de esa lista al índice `4`.  \n",
    "\n",
    "---"
   ]
  },
  {
   "cell_type": "code",
   "execution_count": 11,
   "id": "d790546a",
   "metadata": {},
   "outputs": [
    {
     "name": "stdout",
     "output_type": "stream",
     "text": [
      "Fernández\n",
      "5\n"
     ]
    }
   ],
   "source": [
    "print(l[0][2])     # 'Fernández'\n",
    "print(l[1][1][4])  # 5\n"
   ]
  },
  {
   "cell_type": "markdown",
   "id": "77a3062d",
   "metadata": {},
   "source": [
    "## Visualizando los niveles\n",
    "\n",
    "Dada la lista:\n",
    "\n",
    "\n",
    "✅ Nota rápida:\n",
    "Cada nivel de corchetes [] indica un paso más profundo dentro de la lista."
   ]
  },
  {
   "cell_type": "code",
   "execution_count": 24,
   "id": "c4c11f38",
   "metadata": {},
   "outputs": [],
   "source": [
    "\n",
    "l = [\n",
    "    [\"María\", \"Santos\", \"Fernández\"],\n",
    "    [\"Juan\", [1, 2, 3, 4, 5], 32],\n",
    "    2\n",
    "]\n"
   ]
  },
  {
   "cell_type": "code",
   "execution_count": null,
   "id": "fc4d961b",
   "metadata": {},
   "outputs": [],
   "source": [
    "Primer nivel\n",
    "\n",
    "l[0] → [\"María\", \"Santos\", \"Fernández\"]\n",
    "\n",
    "l[1] → [\"Juan\", [1, 2, 3, 4, 5], 32]\n",
    "\n",
    "l[2] → 2"
   ]
  },
  {
   "cell_type": "code",
   "execution_count": null,
   "id": "9653fff1",
   "metadata": {},
   "outputs": [],
   "source": [
    "Segundo nivel\n",
    "l[0][2] → \"Fernández\"\n",
    "\n",
    "l[1][1] → [1, 2, 3, 4, 5]\n",
    "\n"
   ]
  },
  {
   "cell_type": "code",
   "execution_count": null,
   "id": "6d776188",
   "metadata": {},
   "outputs": [],
   "source": [
    "Tercer nivel\n",
    "l[1][1][4] → 5"
   ]
  },
  {
   "cell_type": "markdown",
   "id": "d680d003",
   "metadata": {},
   "source": [
    "# Matrices en Python (con listas)\n",
    "\n",
    "En Python no existe un tipo de dato especial para matrices (salvo con librerías como `NumPy`),  \n",
    "pero podemos representarlas como **listas de listas**.\n",
    "\n"
   ]
  },
  {
   "cell_type": "code",
   "execution_count": 12,
   "id": "ef696471",
   "metadata": {},
   "outputs": [
    {
     "name": "stdout",
     "output_type": "stream",
     "text": [
      "Matriz A: [[1, 2], [3, 4]]\n",
      "Matriz B: [[5, 6], [7, 8]]\n"
     ]
    }
   ],
   "source": [
    "# Matriz de 2x2\n",
    "A = [\n",
    "    [1, 2],\n",
    "    [3, 4]\n",
    "]\n",
    "\n",
    "B = [\n",
    "    [5, 6],\n",
    "    [7, 8]\n",
    "]\n",
    "\n",
    "print(\"Matriz A:\", A)\n",
    "print(\"Matriz B:\", B)\n",
    "\n"
   ]
  },
  {
   "cell_type": "markdown",
   "id": "387d1c4e",
   "metadata": {},
   "source": [
    "## Suma de matrices\n",
    "\n",
    "La suma de matrices se realiza **sumando cada elemento de la primera matriz con el elemento que ocupa la misma posición en la segunda matriz**.  \n",
    "\n",
    "- Solo se pueden sumar matrices que tengan **las mismas dimensiones** (mismo número de filas y columnas).  \n",
    "- El resultado es otra matriz con las mismas dimensiones.  \n",
    "\n"
   ]
  },
  {
   "cell_type": "code",
   "execution_count": 13,
   "id": "495a0e77",
   "metadata": {},
   "outputs": [
    {
     "name": "stdout",
     "output_type": "stream",
     "text": [
      "[[0, -2, -3], [0, 3, 1], [-1, -1, -3]]\n"
     ]
    }
   ],
   "source": [
    "A = [[1, 0, -3], [2, 0, 1], [-1, -1, 0]]\n",
    "B = [[-1, -2, 0], [-2, 3, 0], [0, 0, -3]]\n",
    "\n",
    "m = len(A)\n",
    "n = len(A[0])\n",
    "\n",
    "if len(A) == len(B) and len(A[0]) == len(B[0]):\n",
    "  C = []\n",
    "\n",
    "  for i in range(m):\n",
    "    C.append([])\n",
    "    for j in range(n):\n",
    "      C[i].append(A[i][j] + B[i][j])\n",
    "\n",
    "  print(C)"
   ]
  },
  {
   "cell_type": "markdown",
   "id": "1e744391",
   "metadata": {},
   "source": [
    "## Producto de matrices\n",
    "\n",
    "El producto de matrices se obtiene **multiplicando cada fila de la primera matriz por cada columna de la segunda matriz** y sumando los productos parciales.  \n",
    "\n",
    "- Solo se pueden multiplicar matrices cuando el **número de columnas de la primera matriz** coincide con el **número de filas de la segunda matriz**.  \n",
    "- El resultado es una nueva matriz cuyas dimensiones son:  \n",
    "  **(filas de la primera matriz) × (columnas de la segunda matriz)**.  \n",
    "\n"
   ]
  },
  {
   "cell_type": "code",
   "execution_count": 14,
   "id": "8708e3dd",
   "metadata": {},
   "outputs": [],
   "source": [
    "A = [[1, 0, -3, 2], [2, 0, 1, 1], [-1, 0, -1, 0]]\n",
    "B = [[-1, -2, 0], [-2, 3, 0], [0, 0, -3], [1, 1, -1]]\n",
    "\n",
    "m, n, p = len(A), len(B), len(B[0])\n",
    "\n",
    "C = []\n",
    "\n",
    "for i in range(m):\n",
    "  C.append([])\n",
    "  for j in range(p):\n",
    "    elemento = 0\n",
    "    for k in range(n):\n",
    "      elemento = elemento + A[i][k] * B[k][j]\n",
    "    C[i].append(elemento)"
   ]
  },
  {
   "cell_type": "markdown",
   "id": "865d5a7a",
   "metadata": {},
   "source": [
    "# Métodos propios de las listas\n",
    "\n",
    "Son funciones que se usan para **modificar o trabajar directamente con las listas**.\n",
    "\n",
    "---\n",
    "\n",
    "## Sintaxis básica\n",
    "\n",
    "```python\n",
    "lista.nombre_funcion(parámetros)\n",
    "\n",
    "\n",
    "\n"
   ]
  },
  {
   "cell_type": "code",
   "execution_count": 16,
   "id": "5e7020be",
   "metadata": {},
   "outputs": [
    {
     "name": "stdout",
     "output_type": "stream",
     "text": [
      "3\n"
     ]
    }
   ],
   "source": [
    "\"\"\" \n",
    "1. `count()`\n",
    "Cuenta cuántas veces aparece un elemento en la lista.\n",
    "\"\"\"\n",
    "numeros = [1, 2, 2, 3, 4, 2, 5]\n",
    "print(numeros.count(2))  # cuántas veces aparece el 2"
   ]
  },
  {
   "cell_type": "code",
   "execution_count": 17,
   "id": "032e42d7",
   "metadata": {},
   "outputs": [
    {
     "name": "stdout",
     "output_type": "stream",
     "text": [
      "[1, 2, 3, 4, 5, 6]\n"
     ]
    }
   ],
   "source": [
    "\"\"\"\n",
    "extend()\n",
    "Agrega todos los elementos de otra lista al final.\n",
    "\"\"\"\n",
    "\n",
    "a = [1, 2, 3]\n",
    "b = [4, 5, 6]\n",
    "a.extend(b)\n",
    "print(a)"
   ]
  },
  {
   "cell_type": "code",
   "execution_count": 18,
   "id": "5bdf520c",
   "metadata": {},
   "outputs": [
    {
     "name": "stdout",
     "output_type": "stream",
     "text": [
      "banana\n",
      "['manzana', 'cereza']\n"
     ]
    }
   ],
   "source": [
    "\"\"\"\n",
    "pop()\n",
    "Elimina y devuelve un elemento por índice (si no se indica, elimina el último).\"\"\"\n",
    "\n",
    "frutas = [\"manzana\", \"banana\", \"cereza\"]\n",
    "print(frutas.pop(1))  # elimina \"banana\"\n",
    "print(frutas)"
   ]
  },
  {
   "cell_type": "code",
   "execution_count": 19,
   "id": "721555a1",
   "metadata": {},
   "outputs": [
    {
     "name": "stdout",
     "output_type": "stream",
     "text": [
      "1\n"
     ]
    }
   ],
   "source": [
    "\"\"\"\n",
    "index()\n",
    "Devuelve el índice de la primera aparición de un elemento.\"\"\"\n",
    "\n",
    "nombres = [\"Ana\", \"Juan\", \"Pedro\", \"Juan\"]\n",
    "print(nombres.index(\"Juan\"))"
   ]
  },
  {
   "cell_type": "code",
   "execution_count": 20,
   "id": "6e843579",
   "metadata": {},
   "outputs": [
    {
     "name": "stdout",
     "output_type": "stream",
     "text": [
      "['rojo', 'azul', 'verde']\n"
     ]
    }
   ],
   "source": [
    "\"\"\"\n",
    "remove()\n",
    "Elimina la primera aparición de un elemento.\"\"\"\n",
    "\n",
    "colores = [\"rojo\", \"verde\", \"azul\", \"verde\"]\n",
    "colores.remove(\"verde\")\n",
    "print(colores)"
   ]
  },
  {
   "cell_type": "code",
   "execution_count": 21,
   "id": "b66ceb62",
   "metadata": {},
   "outputs": [
    {
     "name": "stdout",
     "output_type": "stream",
     "text": [
      "['d', 'c', 'b', 'a']\n"
     ]
    }
   ],
   "source": [
    "\"\"\"\n",
    "reverse()\n",
    "Invierte el orden de la lista.\"\"\"\n",
    "\n",
    "letras = [\"a\", \"b\", \"c\", \"d\"]\n",
    "letras.reverse()\n",
    "print(letras)"
   ]
  },
  {
   "cell_type": "code",
   "execution_count": 22,
   "id": "52718a26",
   "metadata": {},
   "outputs": [
    {
     "name": "stdout",
     "output_type": "stream",
     "text": [
      "[1, 2, 4, 5, 8]\n",
      "[8, 5, 4, 2, 1]\n"
     ]
    }
   ],
   "source": [
    "\"\"\"\n",
    "sort()\n",
    "Ordena los elementos de la lista (por defecto ascendente).\"\"\"\n",
    "\n",
    "numeros = [4, 2, 8, 1, 5]\n",
    "numeros.sort()\n",
    "print(numeros)\n",
    "\n",
    "numeros.sort(reverse=True)  # orden descendente\n",
    "print(numeros)"
   ]
  },
  {
   "cell_type": "code",
   "execution_count": 23,
   "id": "26a713b2",
   "metadata": {},
   "outputs": [
    {
     "name": "stdout",
     "output_type": "stream",
     "text": [
      "3\n"
     ]
    }
   ],
   "source": [
    "\"\"\"\n",
    "len()\n",
    "Devuelve la cantidad de elementos en la lista.\"\"\"\n",
    "\n",
    "animales = [\"perro\", \"gato\", \"loro\"]\n",
    "print(len(animales))"
   ]
  },
  {
   "cell_type": "markdown",
   "id": "11074098",
   "metadata": {},
   "source": [
    "## Métodos propios de las listas en Python\n",
    "\n",
    "| Método       | Uso resumido                                                                 |\n",
    "|--------------|------------------------------------------------------------------------------|\n",
    "| `append(x)`  | Agrega un elemento al final de la lista.                                     |\n",
    "| `extend(l)`  | Agrega todos los elementos de otra lista (o iterable) al final.              |\n",
    "| `insert(i,x)`| Inserta un elemento en la posición `i`.                                      |\n",
    "| `remove(x)`  | Elimina la primera aparición del elemento `x`.                               |\n",
    "| `pop(i)`     | Elimina y devuelve el elemento en la posición `i` (si no se indica, el último). |\n",
    "| `clear()`    | Elimina todos los elementos de la lista (la deja vacía).                     |\n",
    "| `index(x)`   | Devuelve el índice de la primera aparición del elemento `x`.                 |\n",
    "| `count(x)`   | Cuenta cuántas veces aparece el elemento `x`.                                |\n",
    "| `sort()`     | Ordena los elementos de la lista (por defecto en orden ascendente).           |\n",
    "| `reverse()`  | Invierte el orden de la lista.                                               |\n",
    "| `copy()`     | Devuelve una copia superficial de la lista.                                  |\n"
   ]
  }
 ],
 "metadata": {
  "kernelspec": {
   "display_name": "venv",
   "language": "python",
   "name": "python3"
  },
  "language_info": {
   "codemirror_mode": {
    "name": "ipython",
    "version": 3
   },
   "file_extension": ".py",
   "mimetype": "text/x-python",
   "name": "python",
   "nbconvert_exporter": "python",
   "pygments_lexer": "ipython3",
   "version": "3.11.8"
  }
 },
 "nbformat": 4,
 "nbformat_minor": 5
}
