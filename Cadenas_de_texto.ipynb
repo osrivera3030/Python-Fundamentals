{
 "cells": [
  {
   "cell_type": "markdown",
   "id": "80791139",
   "metadata": {},
   "source": [
    "# Cadenas de texto o tipo *string*\n",
    "\n",
    "En esta sección veremos los **usos, modificaciones y aplicaciones** de las cadenas de texto.  \n",
    "\n",
    "Para declarar una cadena en Python se pueden utilizar tanto comillas dobles (`\" \"`) como comillas simples (`' '`).  \n",
    "No existe ninguna diferencia en su funcionamiento; la elección depende únicamente de la preferencia del programador o de la legibilidad del código.\n"
   ]
  },
  {
   "cell_type": "code",
   "execution_count": 2,
   "id": "d005de4c",
   "metadata": {},
   "outputs": [
    {
     "name": "stdout",
     "output_type": "stream",
     "text": [
      "uso de las comillas de simples\n",
      "________________________________\n",
      "uso de las comillas dobles\n"
     ]
    }
   ],
   "source": [
    "# uso de la  \"\" o ''\n",
    "\n",
    "print ('uso de las comillas de simples')\n",
    "print('________________________________')\n",
    "print(\"uso de las comillas dobles\")\n",
    "\n"
   ]
  },
  {
   "cell_type": "markdown",
   "id": "8d11f6a4",
   "metadata": {},
   "source": [
    "## String literals\n",
    "\n",
    "El hecho de que el contenido de las variables de tipo `str` vaya entre comillas, ya sean simples o dobles, conlleva a que algunos caracteres deban ser tratados de forma especial. \n",
    "\n",
    "Aquí entran en juego los string literals. Algunos de los más utilizados se muestran en la siguiente tabla:\n",
    "\n",
    "Código | Significado |\n",
    "--- | --- |\n",
    "`\\\\` | Backslash, `\\`| \n",
    "`\\'` | Comilla simple, `'`| \n",
    "`\\\"` | Comilla doble, `\"`|  \n",
    "`\\n` | Salto de línea| \n",
    "`\\t` | Tabulación horizontal| \n",
    "\n"
   ]
  },
  {
   "cell_type": "code",
   "execution_count": null,
   "id": "cfbfbfb5",
   "metadata": {},
   "outputs": [
    {
     "data": {
      "text/plain": [
       "'Con diez cañones por banda,\\t viento en popa a toda vela'"
      ]
     },
     "execution_count": 5,
     "metadata": {},
     "output_type": "execute_result"
    }
   ],
   "source": [
    "#ejemplo \n",
    "s = \"Con diez cañones por banda,\\t viento en popa a toda vela\"\n",
    "s"
   ]
  },
  {
   "cell_type": "markdown",
   "id": "c32cc24c",
   "metadata": {},
   "source": [
    "# Variables tipo *string*\n",
    "\n",
    "Una variable tipo *string* se utiliza para almacenar una cadena de caracteres.  \n",
    "La asignación se realiza de la siguiente manera:\n",
    "\n",
    "`variable = \"Texto en formato string\"`\n"
   ]
  },
  {
   "cell_type": "code",
   "execution_count": 7,
   "id": "926aca1e",
   "metadata": {},
   "outputs": [
    {
     "data": {
      "text/plain": [
       "'Oscar'"
      ]
     },
     "execution_count": 7,
     "metadata": {},
     "output_type": "execute_result"
    }
   ],
   "source": [
    "#Ejemplo\n",
    "s1=\"Oscar\"\n",
    "s1"
   ]
  },
  {
   "cell_type": "markdown",
   "id": "7de6e35f",
   "metadata": {},
   "source": [
    "## Concatenación de *strings*\n",
    "\n",
    "En esta sección se muestra cómo **concatenar** (unir) variables de tipo *string* utilizando el operador `+`.\n",
    "\n",
    "**Observación**:  \n",
    "Es importante prestar atención a los **espacios** al concatenar, ya que estos afectan directamente el resultado final.\n"
   ]
  },
  {
   "cell_type": "code",
   "execution_count": null,
   "id": "1cd09a72",
   "metadata": {},
   "outputs": [
    {
     "data": {
      "text/plain": [
       "'Oscarrivera'"
      ]
     },
     "execution_count": 8,
     "metadata": {},
     "output_type": "execute_result"
    }
   ],
   "source": [
    "#Ejemplo\n",
    "a=\"Oscar\"\n",
    "b=\"rivera\"\n",
    "a+b\n",
    "#  se observa que al no dejar espacios entre las variables estas  se juntan"
   ]
  },
  {
   "cell_type": "code",
   "execution_count": null,
   "id": "ffc2e1a0",
   "metadata": {},
   "outputs": [
    {
     "data": {
      "text/plain": [
       "'Oscar rivera'"
      ]
     },
     "execution_count": 13,
     "metadata": {},
     "output_type": "execute_result"
    }
   ],
   "source": [
    "# Ej_2\n",
    "a=\"Oscar\"\n",
    "b=\" rivera\"\n",
    "a+b\n",
    "#se dejo un espacio final de la variable b"
   ]
  },
  {
   "cell_type": "markdown",
   "id": "ed79d5bc",
   "metadata": {},
   "source": [
    "## Repetición de strings\n",
    "\n",
    "La repetición es una operación que repite la variable string tantas veces como indiquemos.\n",
    "\n",
    "En `Python`, para repetir una variable de tipo string usamos la función `*`. El orden de los factores no altera el producto. Es decir, tanto da usar la sintaxis `num_repeticiones * variable_str` como `variable_str * num__repeticiones`"
   ]
  },
  {
   "cell_type": "code",
   "execution_count": 14,
   "id": "94c0a0c9",
   "metadata": {},
   "outputs": [
    {
     "data": {
      "text/plain": [
       "'OscarOscarOscar'"
      ]
     },
     "execution_count": 14,
     "metadata": {},
     "output_type": "execute_result"
    }
   ],
   "source": [
    "#Ejemplo\n",
    "a*3"
   ]
  },
  {
   "cell_type": "code",
   "execution_count": 16,
   "id": "c42a3336",
   "metadata": {},
   "outputs": [
    {
     "data": {
      "text/plain": [
       "' ¿Hemos llegado ya? ¿Hemos llegado ya? ¿Hemos llegado ya? ¿Hemos llegado ya? ¿Hemos llegado ya?'"
      ]
     },
     "execution_count": 16,
     "metadata": {},
     "output_type": "execute_result"
    }
   ],
   "source": [
    "#Ejemplos con espacios\n",
    "s2 = \" ¿Hemos llegado ya?\"\n",
    "5 * s2"
   ]
  },
  {
   "cell_type": "markdown",
   "id": "21b58a37",
   "metadata": {},
   "source": [
    "# Substring\n",
    "\n",
    "Un *substring* permite acceder a cada elemento de una cadena de texto a través de su **posición (índice)**.  \n",
    "Para ello se utilizan los corchetes `[]`.\n",
    "\n",
    "El índice comienza en `0`, lo que significa que el primer carácter de la cadena está en la posición cero.\n"
   ]
  },
  {
   "cell_type": "code",
   "execution_count": 17,
   "id": "de649ae0",
   "metadata": {},
   "outputs": [],
   "source": [
    "s3=\"ME GUSTA EL HELADO\""
   ]
  },
  {
   "cell_type": "markdown",
   "id": "7d3450ce",
   "metadata": {},
   "source": [
    "**Observación**:  \n",
    "Para acceder a partes de una cadena existen dos técnicas principales:  \n",
    "\n",
    "- **Indexing**: permite obtener un solo carácter a partir de su posición en la cadena.  \n",
    "- **Slicing**: permite extraer un rango de caracteres de la cadena usando posiciones de inicio y fin.\n"
   ]
  },
  {
   "cell_type": "markdown",
   "id": "4f64a3db",
   "metadata": {},
   "source": [
    "**Indexing**\n",
    "\n",
    "El *indexing* permite acceder a un **carácter específico** dentro de una cadena, utilizando su posición (índice) entre corchetes `[]`.  \n",
    "\n",
    "- El índice comienza en `0`, por lo que el primer carácter se encuentra en la posición `0`.  \n",
    "- También se pueden usar índices negativos para acceder desde el final de la cadena (`-1` corresponde al último carácter).  \n"
   ]
  },
  {
   "cell_type": "code",
   "execution_count": null,
   "id": "d2daf2d1",
   "metadata": {},
   "outputs": [
    {
     "data": {
      "text/plain": [
       "'E'"
      ]
     },
     "execution_count": 18,
     "metadata": {},
     "output_type": "execute_result"
    }
   ],
   "source": [
    "# INDEXING O POR POSICION \n",
    "s3[1]\n",
    "# Se debe entender que se comienza desde cero"
   ]
  },
  {
   "cell_type": "code",
   "execution_count": 19,
   "id": "9bac82a6",
   "metadata": {},
   "outputs": [
    {
     "data": {
      "text/plain": [
       "'M'"
      ]
     },
     "execution_count": 19,
     "metadata": {},
     "output_type": "execute_result"
    }
   ],
   "source": [
    "s3[0]"
   ]
  },
  {
   "cell_type": "markdown",
   "id": "48be77a3",
   "metadata": {},
   "source": [
    "**Slicing**\n",
    "\n",
    "El *slicing* es otra forma de acceder a una variable de tipo *string*.  \n",
    "Consiste en **deslizarse por la cadena** para obtener un rango de caracteres, utilizando la notación `[inicio:fin]`.  \n",
    "\n",
    "- `inicio` → índice donde comienza la extracción (incluido).  \n",
    "- `fin` → índice donde termina la extracción (excluido).  \n"
   ]
  },
  {
   "cell_type": "code",
   "execution_count": 25,
   "id": "12a87297",
   "metadata": {},
   "outputs": [
    {
     "name": "stdout",
     "output_type": "stream",
     "text": [
      "Desde un inicio sin final\n",
      "GUSTA EL HELADO\n",
      "-----------------------------\n",
      "Desde un inicio con  final\n",
      "GUS\n",
      "-----------------------------\n",
      "Desde sin inicio con  final\n",
      "ME GUS\n",
      "-----------------------------\n",
      "de retroceso\n",
      "ME GUSTA EL HEL\n"
     ]
    }
   ],
   "source": [
    "#  notoce que  hay una separacion  con :\n",
    "print(\"Desde un inicio sin final\")\n",
    "print(s3[3:])\n",
    "print(\"-----------------------------\")\n",
    "print(\"Desde un inicio con  final\")\n",
    "print(s3[3:6])\n",
    "print(\"-----------------------------\")\n",
    "print(\"Desde sin inicio con  final\")\n",
    "print(s3[:6])\n",
    "print(\"-----------------------------\")\n",
    "print(\"de retroceso\")\n",
    "print(s3[:-3])"
   ]
  },
  {
   "cell_type": "markdown",
   "id": "e52e4b14",
   "metadata": {},
   "source": [
    "## Metodos"
   ]
  },
  {
   "cell_type": "markdown",
   "id": "d00fcd97",
   "metadata": {},
   "source": [
    "**Title**\n",
    "\n",
    "El método `.title()` convierte la cadena de texto colocando la **primera letra de cada palabra en mayúscula**, mientras que el resto de las letras quedan en minúscula.  \n"
   ]
  },
  {
   "cell_type": "code",
   "execution_count": 26,
   "id": "01e0e56e",
   "metadata": {},
   "outputs": [
    {
     "data": {
      "text/plain": [
       "'Me Gusta El Helado'"
      ]
     },
     "execution_count": 26,
     "metadata": {},
     "output_type": "execute_result"
    }
   ],
   "source": [
    "s3.title()"
   ]
  },
  {
   "cell_type": "markdown",
   "id": "0b7b3f25",
   "metadata": {},
   "source": [
    " **upper**:  \n",
    "Convierte **toda la cadena de texto en mayúsculas**.\n"
   ]
  },
  {
   "cell_type": "code",
   "execution_count": 27,
   "id": "19206312",
   "metadata": {},
   "outputs": [
    {
     "data": {
      "text/plain": [
       "'ME GUSTA EL HELADO'"
      ]
     },
     "execution_count": 27,
     "metadata": {},
     "output_type": "execute_result"
    }
   ],
   "source": [
    "s3.upper()"
   ]
  },
  {
   "cell_type": "markdown",
   "id": "c76efd6b",
   "metadata": {},
   "source": [
    "**lower**:  \n",
    "Convierte **toda la cadena de texto en minúsculas**.\n"
   ]
  },
  {
   "cell_type": "code",
   "execution_count": 28,
   "id": "6f4e965f",
   "metadata": {},
   "outputs": [
    {
     "data": {
      "text/plain": [
       "'me gusta el helado'"
      ]
     },
     "execution_count": 28,
     "metadata": {},
     "output_type": "execute_result"
    }
   ],
   "source": [
    "s3.lower()"
   ]
  },
  {
   "cell_type": "markdown",
   "id": "fa05d662",
   "metadata": {},
   "source": [
    "**swapcase**:  \n",
    "Convierte las letras **minúsculas en mayúsculas** y las **mayúsculas en minúsculas** dentro de la cadena.\n"
   ]
  },
  {
   "cell_type": "code",
   "execution_count": 31,
   "id": "972f0844",
   "metadata": {},
   "outputs": [
    {
     "data": {
      "text/plain": [
       "'mE encanta APRENDER '"
      ]
     },
     "execution_count": 31,
     "metadata": {},
     "output_type": "execute_result"
    }
   ],
   "source": [
    "s = \"Me ENCANTA aprender \"\n",
    "s.swapcase()"
   ]
  },
  {
   "cell_type": "markdown",
   "id": "7ba40bee",
   "metadata": {},
   "source": [
    "**split**:  \n",
    "Divide una cadena de texto en **subcadenas**, utilizando por defecto el espacio (`\" \"`) como separador.  \n",
    "El resultado se devuelve en forma de **lista**.\n"
   ]
  },
  {
   "cell_type": "code",
   "execution_count": 32,
   "id": "92256928",
   "metadata": {},
   "outputs": [
    {
     "data": {
      "text/plain": [
       "['El ', 'l', 'fant', ' ti', 'n', ' las or', 'jas muy grand', 's']"
      ]
     },
     "execution_count": 32,
     "metadata": {},
     "output_type": "execute_result"
    }
   ],
   "source": [
    "s = \"El elefante tiene las orejas muy grandes\"\n",
    "s.split(\"e\") # Rompemos por la letra e minúscula"
   ]
  },
  {
   "cell_type": "markdown",
   "id": "2cb66b5e",
   "metadata": {},
   "source": [
    " **strip**:  \n",
    "Elimina los **espacios en blanco** al inicio y al final de una cadena de texto.  \n",
    "\n",
    "También existen sus variantes:  \n",
    "- **lstrip()** → elimina solo los espacios a la izquierda (inicio).  \n",
    "- **rstrip()** → elimina solo los espacios a la derecha (final).  \n"
   ]
  },
  {
   "cell_type": "code",
   "execution_count": 34,
   "id": "25585c05",
   "metadata": {},
   "outputs": [
    {
     "data": {
      "text/plain": [
       "'El elefante tiene las orejas muy grandes'"
      ]
     },
     "execution_count": 34,
     "metadata": {},
     "output_type": "execute_result"
    }
   ],
   "source": [
    "s = \"       El elefante tiene las orejas muy grandes        \"\n",
    "s.strip()"
   ]
  },
  {
   "cell_type": "markdown",
   "id": "a263923b",
   "metadata": {},
   "source": [
    "**replace**:  \n",
    "Permite **reemplazar** un valor específico dentro de una cadena por otro que deseemos.  \n",
    "\n",
    "Su sintaxis es:  \n",
    "`cadena.replace(\"valor_a_reemplazar\", \"nuevo_valor\")`  \n"
   ]
  },
  {
   "cell_type": "code",
   "execution_count": 35,
   "id": "5e7078ce",
   "metadata": {},
   "outputs": [
    {
     "data": {
      "text/plain": [
       "'Los tomberis son malos'"
      ]
     },
     "execution_count": 35,
     "metadata": {},
     "output_type": "execute_result"
    }
   ],
   "source": [
    "s = \"Los tomberis son buenos\"\n",
    "s.replace(\"buenos\", \"malos\")"
   ]
  },
  {
   "cell_type": "markdown",
   "id": "6d5c9933",
   "metadata": {},
   "source": [
    "- **index()**:  \n",
    "Busca el carácter o subcadena indicada dentro de un *string* y devuelve la **posición (índice) de la primera ocurrencia**.  \n",
    "\n",
    "⚠️ Si el valor no se encuentra en la cadena, el método genera un **error**.\n"
   ]
  },
  {
   "cell_type": "code",
   "execution_count": 37,
   "id": "acd166ba",
   "metadata": {},
   "outputs": [
    {
     "data": {
      "text/plain": [
       "3"
      ]
     },
     "execution_count": 37,
     "metadata": {},
     "output_type": "execute_result"
    }
   ],
   "source": [
    "s = \"Este es un curso de Python para hacer en casa o en cualquier lado\"\n",
    "s.index(\"e\")"
   ]
  },
  {
   "cell_type": "markdown",
   "id": "e7b1bf36",
   "metadata": {},
   "source": [
    "**len()**:  \n",
    "Devuelve el **tamaño de la cadena**, es decir, la cantidad total de caracteres que contiene (incluyendo letras, números, símbolos y espacios).\n"
   ]
  },
  {
   "cell_type": "code",
   "execution_count": 39,
   "id": "0c3f1a15",
   "metadata": {},
   "outputs": [
    {
     "data": {
      "text/plain": [
       "65"
      ]
     },
     "execution_count": 39,
     "metadata": {},
     "output_type": "execute_result"
    }
   ],
   "source": [
    "len(s)"
   ]
  },
  {
   "cell_type": "markdown",
   "id": "6e19fce4",
   "metadata": {},
   "source": [
    "# Métodos principales de *strings* en Python\n",
    "\n",
    "| Método        | Descripción                                                                 | Ejemplo                          | Resultado            |\n",
    "|---------------|-----------------------------------------------------------------------------|----------------------------------|----------------------|\n",
    "| `.upper()`    | Convierte toda la cadena en mayúsculas                                      | `\"python\".upper()`                | `\"PYTHON\"`           |\n",
    "| `.lower()`    | Convierte toda la cadena en minúsculas                                      | `\"PyThOn\".lower()`                | `\"python\"`           |\n",
    "| `.title()`    | Convierte la primera letra de cada palabra en mayúscula                     | `\"hola mundo\".title()`            | `\"Hola Mundo\"`       |\n",
    "| `.swapcase()` | Invierte mayúsculas y minúsculas                                            | `\"PyThOn\".swapcase()`             | `\"pYtHoN\"`           |\n",
    "| `.split()`    | Divide la cadena en una lista (por defecto separa por espacios)             | `\"uno dos tres\".split()`          | `[\"uno\", \"dos\", \"tres\"]` |\n",
    "| `.strip()`    | Elimina espacios en blanco al inicio y final                                | `\"  hola  \".strip()`              | `\"hola\"`             |\n",
    "| `.lstrip()`   | Elimina espacios en blanco solo a la izquierda (inicio)                     | `\"  hola\".lstrip()`               | `\"hola\"`             |\n",
    "| `.rstrip()`   | Elimina espacios en blanco solo a la derecha (final)                        | `\"hola  \".rstrip()`               | `\"hola\"`             |\n",
    "| `.replace()`  | Reemplaza un valor por otro dentro de la cadena                             | `\"python\".replace(\"on\",\"OFF\")`    | `\"pythOFF\"`          |\n",
    "| `.index()`    | Devuelve el índice de la primera ocurrencia de un valor (error si no existe)| `\"banana\".index(\"a\")`             | `1`                  |\n",
    "| `.find()`     | Devuelve el índice de la primera ocurrencia de un valor (-1 si no existe)   | `\"banana\".find(\"z\")`              | `-1`                 |\n",
    "| `len()`       | Devuelve el tamaño (número de caracteres) de la cadena                      | `len(\"python\")`                   | `6`                  |\n"
   ]
  }
 ],
 "metadata": {
  "kernelspec": {
   "display_name": "venv",
   "language": "python",
   "name": "python3"
  },
  "language_info": {
   "codemirror_mode": {
    "name": "ipython",
    "version": 3
   },
   "file_extension": ".py",
   "mimetype": "text/x-python",
   "name": "python",
   "nbconvert_exporter": "python",
   "pygments_lexer": "ipython3",
   "version": "3.11.8"
  }
 },
 "nbformat": 4,
 "nbformat_minor": 5
}
